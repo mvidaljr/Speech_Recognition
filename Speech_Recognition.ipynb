{
 "cells": [
  {
   "cell_type": "code",
   "execution_count": 1,
   "id": "805e7876",
   "metadata": {},
   "outputs": [
    {
     "name": "stdout",
     "output_type": "stream",
     "text": [
      "Collecting SpeechRecognition\n",
      "  Downloading SpeechRecognition-3.8.1-py2.py3-none-any.whl (32.8 MB)\n",
      "Installing collected packages: SpeechRecognition\n",
      "Successfully installed SpeechRecognition-3.8.1\n"
     ]
    }
   ],
   "source": [
    "# !pip install SpeechRecognition"
   ]
  },
  {
   "cell_type": "code",
   "execution_count": 2,
   "id": "30df4d1d",
   "metadata": {},
   "outputs": [
    {
     "name": "stdout",
     "output_type": "stream",
     "text": [
      "Collecting pyaudio\n",
      "  Downloading PyAudio-0.2.12-cp39-cp39-win_amd64.whl (163 kB)\n",
      "Installing collected packages: pyaudio\n",
      "Successfully installed pyaudio-0.2.12\n"
     ]
    }
   ],
   "source": [
    "# !pip install pyaudio"
   ]
  },
  {
   "cell_type": "code",
   "execution_count": 5,
   "id": "fc858492",
   "metadata": {},
   "outputs": [],
   "source": [
    "import speech_recognition as sr"
   ]
  },
  {
   "cell_type": "code",
   "execution_count": 6,
   "id": "53ee6271",
   "metadata": {},
   "outputs": [],
   "source": [
    "rec = sr.Recognizer()"
   ]
  },
  {
   "cell_type": "code",
   "execution_count": 8,
   "id": "56a0bb3e",
   "metadata": {},
   "outputs": [
    {
     "name": "stdout",
     "output_type": "stream",
     "text": [
      "['Microsoft Sound Mapper - Input', 'Microphone (Realtek High Defini', 'Microsoft Sound Mapper - Output', 'Speakers (Realtek High Definiti', 'Primary Sound Capture Driver', 'Microphone (Realtek High Definition Audio)', 'Primary Sound Driver', 'Speakers (Realtek High Definition Audio)', 'Speakers (Realtek High Definition Audio)', 'Microphone (Realtek High Definition Audio)', 'Microphone (Realtek HD Audio Mic input)', 'Speakers (Realtek HD Audio output)', 'Stereo Mix (Realtek HD Audio Stereo input)']\n"
     ]
    }
   ],
   "source": [
    "print(sr.Microphone().list_microphone_names())"
   ]
  },
  {
   "cell_type": "code",
   "execution_count": 13,
   "id": "9ebb068b",
   "metadata": {},
   "outputs": [
    {
     "name": "stdout",
     "output_type": "stream",
     "text": [
      "Pode falar que vou gravar\n",
      "era uma vez um chapeuzinho vermelho que se casou com novo mal e foi morar na Inglaterra\n"
     ]
    }
   ],
   "source": [
    "with sr.Microphone() as mic:\n",
    "    rec.adjust_for_ambient_noise(mic)\n",
    "    print(\"Pode falar que vou gravar\")\n",
    "    audio = rec.listen(mic)\n",
    "    texto = rec.recognize_google(audio, language=\"pt-BR\")\n",
    "    print(texto)\n",
    "    "
   ]
  },
  {
   "cell_type": "code",
   "execution_count": null,
   "id": "66f3c5e9",
   "metadata": {},
   "outputs": [],
   "source": []
  },
  {
   "cell_type": "code",
   "execution_count": null,
   "id": "ffc9b0ce",
   "metadata": {},
   "outputs": [],
   "source": []
  }
 ],
 "metadata": {
  "kernelspec": {
   "display_name": "Python 3 (ipykernel)",
   "language": "python",
   "name": "python3"
  },
  "language_info": {
   "codemirror_mode": {
    "name": "ipython",
    "version": 3
   },
   "file_extension": ".py",
   "mimetype": "text/x-python",
   "name": "python",
   "nbconvert_exporter": "python",
   "pygments_lexer": "ipython3",
   "version": "3.9.7"
  }
 },
 "nbformat": 4,
 "nbformat_minor": 5
}
